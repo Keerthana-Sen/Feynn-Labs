{
  "nbformat": 4,
  "nbformat_minor": 0,
  "metadata": {
    "colab": {
      "provenance": [],
      "authorship_tag": "ABX9TyNa5EchDDR2gc66EZCUYG4v",
      "include_colab_link": true
    },
    "kernelspec": {
      "name": "python3",
      "display_name": "Python 3"
    },
    "language_info": {
      "name": "python"
    }
  },
  "cells": [
    {
      "cell_type": "markdown",
      "metadata": {
        "id": "view-in-github",
        "colab_type": "text"
      },
      "source": [
        "<a href=\"https://colab.research.google.com/github/Keerthana-Sen/Feynn-Labs/blob/projects/predict.ipynb\" target=\"_parent\"><img src=\"https://colab.research.google.com/assets/colab-badge.svg\" alt=\"Open In Colab\"/></a>"
      ]
    },
    {
      "cell_type": "code",
      "execution_count": 1,
      "metadata": {
        "id": "unbgS5zwIE5v"
      },
      "outputs": [],
      "source": [
        "import pandas as pd\n",
        "import matplotlib.pyplot as plt\n",
        "import numpy as np\n",
        "from sklearn.model_selection import train_test_split\n",
        "from sklearn.linear_model import LinearRegression\n",
        "from sklearn.metrics import mean_squared_error, r2_score\n",
        "from sklearn.preprocessing import LabelEncoder"
      ]
    },
    {
      "cell_type": "code",
      "source": [
        "df=pd.read_csv('odisha.csv')\n",
        "df.head()"
      ],
      "metadata": {
        "colab": {
          "base_uri": "https://localhost:8080/",
          "height": 310
        },
        "id": "ipcI05blLpmm",
        "outputId": "e14aad54-eea1-46e0-c2a5-641b9d92316c"
      },
      "execution_count": 2,
      "outputs": [
        {
          "output_type": "execute_result",
          "data": {
            "text/plain": [
              "                          Indicator Facility Type  Total  nil performance  \\\n",
              "0  Deliveries conducted at facility            DH     32                0   \n",
              "1  Deliveries conducted at facility            DH     32                0   \n",
              "2  Deliveries conducted at facility           SDH     33                1   \n",
              "3  Deliveries conducted at facility           SDH     33                1   \n",
              "4  Deliveries conducted at facility           SDH     33                1   \n",
              "\n",
              "  Performance  Value Reported      District         Sub-district  \\\n",
              "0     Maximum            1187    Mayurbhanj  Dist Level Facility   \n",
              "1     Minimum             146       Deogarh  Dist Level Facility   \n",
              "2     Maximum             347    Mayurbhanj  Dist Level Facility   \n",
              "3     Maximum             347  Nabarangapur             Umerkote   \n",
              "4     Minimum              28       Sonapur  Dist Level Facility   \n",
              "\n",
              "        Facility  \n",
              "0       Baripada  \n",
              "1        Deogarh  \n",
              "2       Karanjia  \n",
              "3       Umarkote  \n",
              "4  Birmaharajpur  "
            ],
            "text/html": [
              "\n",
              "  <div id=\"df-9b3a8fd2-2692-4527-b36b-b3aa9c9de7e7\" class=\"colab-df-container\">\n",
              "    <div>\n",
              "<style scoped>\n",
              "    .dataframe tbody tr th:only-of-type {\n",
              "        vertical-align: middle;\n",
              "    }\n",
              "\n",
              "    .dataframe tbody tr th {\n",
              "        vertical-align: top;\n",
              "    }\n",
              "\n",
              "    .dataframe thead th {\n",
              "        text-align: right;\n",
              "    }\n",
              "</style>\n",
              "<table border=\"1\" class=\"dataframe\">\n",
              "  <thead>\n",
              "    <tr style=\"text-align: right;\">\n",
              "      <th></th>\n",
              "      <th>Indicator</th>\n",
              "      <th>Facility Type</th>\n",
              "      <th>Total</th>\n",
              "      <th>nil performance</th>\n",
              "      <th>Performance</th>\n",
              "      <th>Value Reported</th>\n",
              "      <th>District</th>\n",
              "      <th>Sub-district</th>\n",
              "      <th>Facility</th>\n",
              "    </tr>\n",
              "  </thead>\n",
              "  <tbody>\n",
              "    <tr>\n",
              "      <th>0</th>\n",
              "      <td>Deliveries conducted at facility</td>\n",
              "      <td>DH</td>\n",
              "      <td>32</td>\n",
              "      <td>0</td>\n",
              "      <td>Maximum</td>\n",
              "      <td>1187</td>\n",
              "      <td>Mayurbhanj</td>\n",
              "      <td>Dist Level Facility</td>\n",
              "      <td>Baripada</td>\n",
              "    </tr>\n",
              "    <tr>\n",
              "      <th>1</th>\n",
              "      <td>Deliveries conducted at facility</td>\n",
              "      <td>DH</td>\n",
              "      <td>32</td>\n",
              "      <td>0</td>\n",
              "      <td>Minimum</td>\n",
              "      <td>146</td>\n",
              "      <td>Deogarh</td>\n",
              "      <td>Dist Level Facility</td>\n",
              "      <td>Deogarh</td>\n",
              "    </tr>\n",
              "    <tr>\n",
              "      <th>2</th>\n",
              "      <td>Deliveries conducted at facility</td>\n",
              "      <td>SDH</td>\n",
              "      <td>33</td>\n",
              "      <td>1</td>\n",
              "      <td>Maximum</td>\n",
              "      <td>347</td>\n",
              "      <td>Mayurbhanj</td>\n",
              "      <td>Dist Level Facility</td>\n",
              "      <td>Karanjia</td>\n",
              "    </tr>\n",
              "    <tr>\n",
              "      <th>3</th>\n",
              "      <td>Deliveries conducted at facility</td>\n",
              "      <td>SDH</td>\n",
              "      <td>33</td>\n",
              "      <td>1</td>\n",
              "      <td>Maximum</td>\n",
              "      <td>347</td>\n",
              "      <td>Nabarangapur</td>\n",
              "      <td>Umerkote</td>\n",
              "      <td>Umarkote</td>\n",
              "    </tr>\n",
              "    <tr>\n",
              "      <th>4</th>\n",
              "      <td>Deliveries conducted at facility</td>\n",
              "      <td>SDH</td>\n",
              "      <td>33</td>\n",
              "      <td>1</td>\n",
              "      <td>Minimum</td>\n",
              "      <td>28</td>\n",
              "      <td>Sonapur</td>\n",
              "      <td>Dist Level Facility</td>\n",
              "      <td>Birmaharajpur</td>\n",
              "    </tr>\n",
              "  </tbody>\n",
              "</table>\n",
              "</div>\n",
              "    <div class=\"colab-df-buttons\">\n",
              "\n",
              "  <div class=\"colab-df-container\">\n",
              "    <button class=\"colab-df-convert\" onclick=\"convertToInteractive('df-9b3a8fd2-2692-4527-b36b-b3aa9c9de7e7')\"\n",
              "            title=\"Convert this dataframe to an interactive table.\"\n",
              "            style=\"display:none;\">\n",
              "\n",
              "  <svg xmlns=\"http://www.w3.org/2000/svg\" height=\"24px\" viewBox=\"0 -960 960 960\">\n",
              "    <path d=\"M120-120v-720h720v720H120Zm60-500h600v-160H180v160Zm220 220h160v-160H400v160Zm0 220h160v-160H400v160ZM180-400h160v-160H180v160Zm440 0h160v-160H620v160ZM180-180h160v-160H180v160Zm440 0h160v-160H620v160Z\"/>\n",
              "  </svg>\n",
              "    </button>\n",
              "\n",
              "  <style>\n",
              "    .colab-df-container {\n",
              "      display:flex;\n",
              "      gap: 12px;\n",
              "    }\n",
              "\n",
              "    .colab-df-convert {\n",
              "      background-color: #E8F0FE;\n",
              "      border: none;\n",
              "      border-radius: 50%;\n",
              "      cursor: pointer;\n",
              "      display: none;\n",
              "      fill: #1967D2;\n",
              "      height: 32px;\n",
              "      padding: 0 0 0 0;\n",
              "      width: 32px;\n",
              "    }\n",
              "\n",
              "    .colab-df-convert:hover {\n",
              "      background-color: #E2EBFA;\n",
              "      box-shadow: 0px 1px 2px rgba(60, 64, 67, 0.3), 0px 1px 3px 1px rgba(60, 64, 67, 0.15);\n",
              "      fill: #174EA6;\n",
              "    }\n",
              "\n",
              "    .colab-df-buttons div {\n",
              "      margin-bottom: 4px;\n",
              "    }\n",
              "\n",
              "    [theme=dark] .colab-df-convert {\n",
              "      background-color: #3B4455;\n",
              "      fill: #D2E3FC;\n",
              "    }\n",
              "\n",
              "    [theme=dark] .colab-df-convert:hover {\n",
              "      background-color: #434B5C;\n",
              "      box-shadow: 0px 1px 3px 1px rgba(0, 0, 0, 0.15);\n",
              "      filter: drop-shadow(0px 1px 2px rgba(0, 0, 0, 0.3));\n",
              "      fill: #FFFFFF;\n",
              "    }\n",
              "  </style>\n",
              "\n",
              "    <script>\n",
              "      const buttonEl =\n",
              "        document.querySelector('#df-9b3a8fd2-2692-4527-b36b-b3aa9c9de7e7 button.colab-df-convert');\n",
              "      buttonEl.style.display =\n",
              "        google.colab.kernel.accessAllowed ? 'block' : 'none';\n",
              "\n",
              "      async function convertToInteractive(key) {\n",
              "        const element = document.querySelector('#df-9b3a8fd2-2692-4527-b36b-b3aa9c9de7e7');\n",
              "        const dataTable =\n",
              "          await google.colab.kernel.invokeFunction('convertToInteractive',\n",
              "                                                    [key], {});\n",
              "        if (!dataTable) return;\n",
              "\n",
              "        const docLinkHtml = 'Like what you see? Visit the ' +\n",
              "          '<a target=\"_blank\" href=https://colab.research.google.com/notebooks/data_table.ipynb>data table notebook</a>'\n",
              "          + ' to learn more about interactive tables.';\n",
              "        element.innerHTML = '';\n",
              "        dataTable['output_type'] = 'display_data';\n",
              "        await google.colab.output.renderOutput(dataTable, element);\n",
              "        const docLink = document.createElement('div');\n",
              "        docLink.innerHTML = docLinkHtml;\n",
              "        element.appendChild(docLink);\n",
              "      }\n",
              "    </script>\n",
              "  </div>\n",
              "\n",
              "\n",
              "<div id=\"df-d599cc84-8ef7-4a94-a2e5-dbd9c195fa53\">\n",
              "  <button class=\"colab-df-quickchart\" onclick=\"quickchart('df-d599cc84-8ef7-4a94-a2e5-dbd9c195fa53')\"\n",
              "            title=\"Suggest charts\"\n",
              "            style=\"display:none;\">\n",
              "\n",
              "<svg xmlns=\"http://www.w3.org/2000/svg\" height=\"24px\"viewBox=\"0 0 24 24\"\n",
              "     width=\"24px\">\n",
              "    <g>\n",
              "        <path d=\"M19 3H5c-1.1 0-2 .9-2 2v14c0 1.1.9 2 2 2h14c1.1 0 2-.9 2-2V5c0-1.1-.9-2-2-2zM9 17H7v-7h2v7zm4 0h-2V7h2v10zm4 0h-2v-4h2v4z\"/>\n",
              "    </g>\n",
              "</svg>\n",
              "  </button>\n",
              "\n",
              "<style>\n",
              "  .colab-df-quickchart {\n",
              "      --bg-color: #E8F0FE;\n",
              "      --fill-color: #1967D2;\n",
              "      --hover-bg-color: #E2EBFA;\n",
              "      --hover-fill-color: #174EA6;\n",
              "      --disabled-fill-color: #AAA;\n",
              "      --disabled-bg-color: #DDD;\n",
              "  }\n",
              "\n",
              "  [theme=dark] .colab-df-quickchart {\n",
              "      --bg-color: #3B4455;\n",
              "      --fill-color: #D2E3FC;\n",
              "      --hover-bg-color: #434B5C;\n",
              "      --hover-fill-color: #FFFFFF;\n",
              "      --disabled-bg-color: #3B4455;\n",
              "      --disabled-fill-color: #666;\n",
              "  }\n",
              "\n",
              "  .colab-df-quickchart {\n",
              "    background-color: var(--bg-color);\n",
              "    border: none;\n",
              "    border-radius: 50%;\n",
              "    cursor: pointer;\n",
              "    display: none;\n",
              "    fill: var(--fill-color);\n",
              "    height: 32px;\n",
              "    padding: 0;\n",
              "    width: 32px;\n",
              "  }\n",
              "\n",
              "  .colab-df-quickchart:hover {\n",
              "    background-color: var(--hover-bg-color);\n",
              "    box-shadow: 0 1px 2px rgba(60, 64, 67, 0.3), 0 1px 3px 1px rgba(60, 64, 67, 0.15);\n",
              "    fill: var(--button-hover-fill-color);\n",
              "  }\n",
              "\n",
              "  .colab-df-quickchart-complete:disabled,\n",
              "  .colab-df-quickchart-complete:disabled:hover {\n",
              "    background-color: var(--disabled-bg-color);\n",
              "    fill: var(--disabled-fill-color);\n",
              "    box-shadow: none;\n",
              "  }\n",
              "\n",
              "  .colab-df-spinner {\n",
              "    border: 2px solid var(--fill-color);\n",
              "    border-color: transparent;\n",
              "    border-bottom-color: var(--fill-color);\n",
              "    animation:\n",
              "      spin 1s steps(1) infinite;\n",
              "  }\n",
              "\n",
              "  @keyframes spin {\n",
              "    0% {\n",
              "      border-color: transparent;\n",
              "      border-bottom-color: var(--fill-color);\n",
              "      border-left-color: var(--fill-color);\n",
              "    }\n",
              "    20% {\n",
              "      border-color: transparent;\n",
              "      border-left-color: var(--fill-color);\n",
              "      border-top-color: var(--fill-color);\n",
              "    }\n",
              "    30% {\n",
              "      border-color: transparent;\n",
              "      border-left-color: var(--fill-color);\n",
              "      border-top-color: var(--fill-color);\n",
              "      border-right-color: var(--fill-color);\n",
              "    }\n",
              "    40% {\n",
              "      border-color: transparent;\n",
              "      border-right-color: var(--fill-color);\n",
              "      border-top-color: var(--fill-color);\n",
              "    }\n",
              "    60% {\n",
              "      border-color: transparent;\n",
              "      border-right-color: var(--fill-color);\n",
              "    }\n",
              "    80% {\n",
              "      border-color: transparent;\n",
              "      border-right-color: var(--fill-color);\n",
              "      border-bottom-color: var(--fill-color);\n",
              "    }\n",
              "    90% {\n",
              "      border-color: transparent;\n",
              "      border-bottom-color: var(--fill-color);\n",
              "    }\n",
              "  }\n",
              "</style>\n",
              "\n",
              "  <script>\n",
              "    async function quickchart(key) {\n",
              "      const quickchartButtonEl =\n",
              "        document.querySelector('#' + key + ' button');\n",
              "      quickchartButtonEl.disabled = true;  // To prevent multiple clicks.\n",
              "      quickchartButtonEl.classList.add('colab-df-spinner');\n",
              "      try {\n",
              "        const charts = await google.colab.kernel.invokeFunction(\n",
              "            'suggestCharts', [key], {});\n",
              "      } catch (error) {\n",
              "        console.error('Error during call to suggestCharts:', error);\n",
              "      }\n",
              "      quickchartButtonEl.classList.remove('colab-df-spinner');\n",
              "      quickchartButtonEl.classList.add('colab-df-quickchart-complete');\n",
              "    }\n",
              "    (() => {\n",
              "      let quickchartButtonEl =\n",
              "        document.querySelector('#df-d599cc84-8ef7-4a94-a2e5-dbd9c195fa53 button');\n",
              "      quickchartButtonEl.style.display =\n",
              "        google.colab.kernel.accessAllowed ? 'block' : 'none';\n",
              "    })();\n",
              "  </script>\n",
              "</div>\n",
              "    </div>\n",
              "  </div>\n"
            ],
            "application/vnd.google.colaboratory.intrinsic+json": {
              "type": "dataframe",
              "variable_name": "df",
              "summary": "{\n  \"name\": \"df\",\n  \"rows\": 162,\n  \"fields\": [\n    {\n      \"column\": \"Indicator\",\n      \"properties\": {\n        \"dtype\": \"category\",\n        \"num_unique_values\": 7,\n        \"samples\": [\n          \"Deliveries conducted at facility\",\n          \"C -Section deliveries at facility\",\n          \"Operation major (General and spinal anaesthesia)\"\n        ],\n        \"semantic_type\": \"\",\n        \"description\": \"\"\n      }\n    },\n    {\n      \"column\": \"Facility Type\",\n      \"properties\": {\n        \"dtype\": \"category\",\n        \"num_unique_values\": 5,\n        \"samples\": [\n          \"SDH\",\n          \"SC\",\n          \"CHC\"\n        ],\n        \"semantic_type\": \"\",\n        \"description\": \"\"\n      }\n    },\n    {\n      \"column\": \"Total\",\n      \"properties\": {\n        \"dtype\": \"number\",\n        \"std\": 2245,\n        \"min\": 32,\n        \"max\": 6688,\n        \"num_unique_values\": 5,\n        \"samples\": [\n          33,\n          6688,\n          384\n        ],\n        \"semantic_type\": \"\",\n        \"description\": \"\"\n      }\n    },\n    {\n      \"column\": \"nil performance\",\n      \"properties\": {\n        \"dtype\": \"number\",\n        \"std\": 2156,\n        \"min\": 0,\n        \"max\": 6603,\n        \"num_unique_values\": 17,\n        \"samples\": [\n          0,\n          1,\n          17\n        ],\n        \"semantic_type\": \"\",\n        \"description\": \"\"\n      }\n    },\n    {\n      \"column\": \"Performance\",\n      \"properties\": {\n        \"dtype\": \"category\",\n        \"num_unique_values\": 2,\n        \"samples\": [\n          \"Minimum\",\n          \"Maximum\"\n        ],\n        \"semantic_type\": \"\",\n        \"description\": \"\"\n      }\n    },\n    {\n      \"column\": \"Value Reported\",\n      \"properties\": {\n        \"dtype\": \"number\",\n        \"std\": 7224,\n        \"min\": 1,\n        \"max\": 85365,\n        \"num_unique_values\": 43,\n        \"samples\": [\n          4091,\n          22824\n        ],\n        \"semantic_type\": \"\",\n        \"description\": \"\"\n      }\n    },\n    {\n      \"column\": \"District\",\n      \"properties\": {\n        \"dtype\": \"category\",\n        \"num_unique_values\": 30,\n        \"samples\": [\n          \"Puri\",\n          \"Bhadrak\"\n        ],\n        \"semantic_type\": \"\",\n        \"description\": \"\"\n      }\n    },\n    {\n      \"column\": \"Sub-district\",\n      \"properties\": {\n        \"dtype\": \"string\",\n        \"num_unique_values\": 89,\n        \"samples\": [\n          \"Odagaon\",\n          \"Tarva\"\n        ],\n        \"semantic_type\": \"\",\n        \"description\": \"\"\n      }\n    },\n    {\n      \"column\": \"Facility\",\n      \"properties\": {\n        \"dtype\": \"string\",\n        \"num_unique_values\": 133,\n        \"samples\": [\n          \"Godipada\",\n          \"Palsada\"\n        ],\n        \"semantic_type\": \"\",\n        \"description\": \"\"\n      }\n    }\n  ]\n}"
            }
          },
          "metadata": {},
          "execution_count": 2
        }
      ]
    },
    {
      "source": [
        "# @title Indicator vs nil performance\n",
        "\n",
        "from matplotlib import pyplot as plt\n",
        "import seaborn as sns\n",
        "figsize = (12, 1.2 * len(df['Indicator'].unique()))\n",
        "plt.figure(figsize=figsize)\n",
        "sns.violinplot(df, x='nil performance', y='Indicator', inner='stick', palette='Dark2')\n",
        "sns.despine(top=True, right=True, bottom=True, left=True)"
      ],
      "cell_type": "code",
      "execution_count": 3,
      "outputs": [
        {
          "output_type": "stream",
          "name": "stderr",
          "text": [
            "<ipython-input-3-5270930762b9>:7: FutureWarning: \n",
            "\n",
            "Passing `palette` without assigning `hue` is deprecated and will be removed in v0.14.0. Assign the `y` variable to `hue` and set `legend=False` for the same effect.\n",
            "\n",
            "  sns.violinplot(df, x='nil performance', y='Indicator', inner='stick', palette='Dark2')\n"
          ]
        },
        {
          "output_type": "display_data",
          "data": {
            "text/plain": [
              "<Figure size 1200x840 with 1 Axes>"
            ],
            "image/png": "[encoded data removed]"
          },
          "metadata": {}
        }
      ],
      "metadata": {
        "colab": {
          "base_uri": "https://localhost:8080/",
          "height": 723
        },
        "id": "baCVkyT9ZBkh",
        "outputId": "f89c18f7-9e3c-4b68-c950-b43aa92dc459"
      }
    },
    {
      "cell_type": "code",
      "source": [
        "df.info()"
      ],
      "metadata": {
        "colab": {
          "base_uri": "https://localhost:8080/"
        },
        "id": "OzFokrgHe8uD",
        "outputId": "fd9aa0f6-c153-4bb9-d77f-9317db712f43"
      },
      "execution_count": 3,
      "outputs": [
        {
          "output_type": "stream",
          "name": "stdout",
          "text": [
            "<class 'pandas.core.frame.DataFrame'>\n",
            "RangeIndex: 162 entries, 0 to 161\n",
            "Data columns (total 9 columns):\n",
            " #   Column           Non-Null Count  Dtype \n",
            "---  ------           --------------  ----- \n",
            " 0   Indicator        162 non-null    object\n",
            " 1   Facility Type    162 non-null    object\n",
            " 2   Total            162 non-null    int64 \n",
            " 3   nil performance  162 non-null    int64 \n",
            " 4   Performance      162 non-null    object\n",
            " 5   Value Reported   162 non-null    int64 \n",
            " 6   District         162 non-null    object\n",
            " 7   Sub-district     162 non-null    object\n",
            " 8   Facility         162 non-null    object\n",
            "dtypes: int64(3), object(6)\n",
            "memory usage: 11.5+ KB\n"
          ]
        }
      ]
    },
    {
      "cell_type": "code",
      "source": [
        "X = df.drop(columns=['Indicator','Facility Type','nil performance','Sub-district','Facility'])\n",
        "y= df[['Performance','District']]\n",
        "print(X.head())"
      ],
      "metadata": {
        "colab": {
          "base_uri": "https://localhost:8080/"
        },
        "id": "sVKe3S0zLptL",
        "outputId": "8df7f8ce-985a-439d-d4eb-cc43290eb927"
      },
      "execution_count": 15,
      "outputs": [
        {
          "output_type": "stream",
          "name": "stdout",
          "text": [
            "   Total  Performance  Value Reported  District\n",
            "0     32            0            1187        21\n",
            "1     32            1             146         7\n",
            "2     33            0             347        21\n",
            "3     33            0             347        22\n",
            "4     33            1              28        28\n"
          ]
        }
      ]
    },
    {
      "cell_type": "code",
      "source": [
        "print(y.head())"
      ],
      "metadata": {
        "colab": {
          "base_uri": "https://localhost:8080/"
        },
        "id": "divdv0fYLpwU",
        "outputId": "4dcac4c0-01e4-45d6-9976-4e8d8fc6cb02"
      },
      "execution_count": 16,
      "outputs": [
        {
          "output_type": "stream",
          "name": "stdout",
          "text": [
            "   Performance  District\n",
            "0            0        21\n",
            "1            1         7\n",
            "2            0        21\n",
            "3            0        22\n",
            "4            1        28\n"
          ]
        }
      ]
    },
    {
      "cell_type": "code",
      "source": [
        "columns_to_encode=['Indicator','Facility Type','Sub-district','Facility','Performance','District']\n",
        "label_encoders={}\n",
        "for column in columns_to_encode:\n",
        "  label_encoders[column]=LabelEncoder()\n",
        "  df[column]=label_encoders[column].fit_transform(df[column])\n",
        "print(df.head())"
      ],
      "metadata": {
        "colab": {
          "base_uri": "https://localhost:8080/"
        },
        "id": "mucLorFeU1tb",
        "outputId": "abc7586b-d69f-46e4-dee0-13a679264aac"
      },
      "execution_count": 17,
      "outputs": [
        {
          "output_type": "stream",
          "name": "stdout",
          "text": [
            "   Indicator  Facility Type  Total  nil performance  Performance  \\\n",
            "0          3              1     32                0            0   \n",
            "1          3              1     32                0            1   \n",
            "2          3              4     33                1            0   \n",
            "3          3              4     33                1            0   \n",
            "4          3              4     33                1            1   \n",
            "\n",
            "   Value Reported  District  Sub-district  Facility  \n",
            "0            1187        21            24        11  \n",
            "1             146         7            24        36  \n",
            "2             347        21            24        73  \n",
            "3             347        22            88       131  \n",
            "4              28        28            24        20  \n"
          ]
        }
      ]
    },
    {
      "cell_type": "code",
      "source": [
        "X_train,X_test,y_train,y_test= train_test_split(X,y,test_size=0.5, random_state=60)\n",
        "print(\"\\nShape of X_train:\",X_train.shape)\n",
        "print(\"\\nShape of X_test:\",X_test.shape)\n",
        "print(\"\\nShape of y_train:\",y_train.shape)\n",
        "print(\"\\nShape of y_test:\",y_test.shape)"
      ],
      "metadata": {
        "colab": {
          "base_uri": "https://localhost:8080/"
        },
        "id": "Zlzy6A0VLpzg",
        "outputId": "f2a22eac-d32c-4df7-966e-6a45f8f0ea97"
      },
      "execution_count": 18,
      "outputs": [
        {
          "output_type": "stream",
          "name": "stdout",
          "text": [
            "\n",
            "Shape of X_train: (81, 4)\n",
            "\n",
            "Shape of X_test: (81, 4)\n",
            "\n",
            "Shape of y_train: (81, 2)\n",
            "\n",
            "Shape of y_test: (81, 2)\n"
          ]
        }
      ]
    },
    {
      "cell_type": "code",
      "source": [
        "print(X_train)"
      ],
      "metadata": {
        "colab": {
          "base_uri": "https://localhost:8080/"
        },
        "id": "18iMc5rc8fkB",
        "outputId": "2041017d-021c-4357-817c-44687bea07c8"
      },
      "execution_count": 19,
      "outputs": [
        {
          "output_type": "stream",
          "name": "stdout",
          "text": [
            "     Total  Performance  Value Reported  District\n",
            "135     33            0             910        16\n",
            "137    384            0            3950         2\n",
            "39    1377            1               1        17\n",
            "16    1377            1               1         0\n",
            "114   1377            1               1        17\n",
            "..     ...          ...             ...       ...\n",
            "99     384            0            1589         2\n",
            "143     33            0              31         3\n",
            "138    384            1              40        23\n",
            "70    6688            1               1         5\n",
            "65    6688            1               1         0\n",
            "\n",
            "[81 rows x 4 columns]\n"
          ]
        }
      ]
    },
    {
      "cell_type": "code",
      "source": [
        "model=LinearRegression()\n",
        "model.fit(X_train,y_train)\n",
        "print(\"\\nCoefficients of the trained model:\\n\", model.coef_)"
      ],
      "metadata": {
        "colab": {
          "base_uri": "https://localhost:8080/"
        },
        "id": "cY5weN9gLp1S",
        "outputId": "de34c6dc-3f35-431c-baa3-5a9e78d17c32"
      },
      "execution_count": 20,
      "outputs": [
        {
          "output_type": "stream",
          "name": "stdout",
          "text": [
            "\n",
            "Coefficients of the trained model:\n",
            " [[ 1.28732623e-16  1.00000000e+00  1.11022302e-16 -9.35666475e-17]\n",
            " [ 2.77337219e-18 -3.02470722e-15 -2.16840434e-19  1.00000000e+00]]\n"
          ]
        }
      ]
    },
    {
      "cell_type": "code",
      "source": [
        "y_pred = model.predict(X_test)\n",
        "print(\"\\nPredicted Model:\\n\",y_pred)\n"
      ],
      "metadata": {
        "colab": {
          "base_uri": "https://localhost:8080/"
        },
        "id": "LNoOmSDrySxz",
        "outputId": "b43b68fa-e2a1-4d7b-a207-b433c048ec67"
      },
      "execution_count": 21,
      "outputs": [
        {
          "output_type": "stream",
          "name": "stdout",
          "text": [
            "\n",
            "Predicted Model:\n",
            " [[ 1.00000000e+00  1.60000000e+01]\n",
            " [ 1.00000000e+00  1.30000000e+01]\n",
            " [ 1.00000000e+00  1.31166708e-15]\n",
            " [ 1.00000000e+00  2.60000000e+01]\n",
            " [ 1.00000000e+00  1.90000000e+01]\n",
            " [ 1.17656617e-12  2.10000000e+01]\n",
            " [ 1.00000000e+00  2.10000000e+01]\n",
            " [ 1.00000000e+00  2.90000000e+01]\n",
            " [ 1.00000000e+00  1.30000000e+01]\n",
            " [ 1.00000000e+00  2.70000000e+01]\n",
            " [ 1.00000000e+00 -1.34168453e-14]\n",
            " [ 1.00000000e+00  2.10000000e+01]\n",
            " [ 1.00000000e+00  3.00000000e+00]\n",
            " [ 1.00000000e+00  8.00000000e+00]\n",
            " [ 1.00000000e+00  1.30000000e+01]\n",
            " [ 1.00000000e+00  2.00000000e+01]\n",
            " [ 1.00000000e+00  2.60000000e+01]\n",
            " [ 1.00000000e+00  2.90000000e+01]\n",
            " [ 1.00000000e+00  2.80000000e+01]\n",
            " [ 1.00000000e+00  3.00000000e+00]\n",
            " [ 1.00000000e+00  3.00000000e+00]\n",
            " [ 1.00000000e+00  1.30000000e+01]\n",
            " [ 1.00000000e+00  1.10000000e+01]\n",
            " [ 1.00000000e+00  1.40000000e+01]\n",
            " [ 1.00000000e+00  1.30000000e+01]\n",
            " [ 1.00000000e+00  3.00000000e+00]\n",
            " [ 1.00000000e+00  1.90000000e+01]\n",
            " [ 1.00000000e+00  1.50000000e+01]\n",
            " [ 3.49333189e-13  8.00000000e+00]\n",
            " [ 1.00000000e+00  1.70000000e+01]\n",
            " [ 1.00000000e+00  1.60000000e+01]\n",
            " [ 2.57207939e-13  2.20000000e+01]\n",
            " [ 1.00000000e+00  9.00000000e+00]\n",
            " [ 4.09330057e-13  8.00000000e+00]\n",
            " [ 1.00000000e+00  2.20000000e+01]\n",
            " [ 1.00000000e+00  1.70000000e+01]\n",
            " [ 1.00000000e+00  2.00000000e+00]\n",
            " [ 1.00000000e+00  1.40000000e+01]\n",
            " [ 1.00000000e+00  1.30000000e+01]\n",
            " [ 1.00000000e+00  1.60000000e+01]\n",
            " [ 1.00000000e+00  3.00000000e+00]\n",
            " [ 1.00000000e+00  9.00000000e+00]\n",
            " [ 1.00000000e+00 -1.71442575e-14]\n",
            " [ 1.00000000e+00  1.20000000e+01]\n",
            " [ 1.00000000e+00  1.90000000e+01]\n",
            " [ 1.00000000e+00  7.00000000e+00]\n",
            " [ 1.00000000e+00  2.20000000e+01]\n",
            " [ 3.50431507e-13  2.10000000e+01]\n",
            " [ 1.00000000e+00  3.00000000e+00]\n",
            " [ 1.00000000e+00  1.20000000e+01]\n",
            " [ 1.00000000e+00  7.00000000e+00]\n",
            " [ 4.56467047e-13  1.80000000e+01]\n",
            " [ 1.00000000e+00  1.50000000e+01]\n",
            " [ 1.00000000e+00  1.70000000e+01]\n",
            " [ 2.96614313e-13  2.90000000e+01]\n",
            " [ 1.00000000e+00  2.50000000e+01]\n",
            " [ 1.00000000e+00  1.70000000e+01]\n",
            " [ 1.00000000e+00  1.00000000e+00]\n",
            " [ 1.00000000e+00  3.00000000e+00]\n",
            " [ 1.00000000e+00  6.00000000e+00]\n",
            " [ 1.00000000e+00  2.80000000e+01]\n",
            " [ 1.00000000e+00  3.00000000e+00]\n",
            " [ 1.00000000e+00  1.30000000e+01]\n",
            " [ 1.00000000e+00  9.00000000e+00]\n",
            " [ 1.00000000e+00  2.70000000e+01]\n",
            " [ 1.00000000e+00  8.00000000e+00]\n",
            " [ 1.00000000e+00  2.10000000e+01]\n",
            " [ 1.00000000e+00  2.00000000e+01]\n",
            " [ 1.00000000e+00  2.10000000e+01]\n",
            " [ 1.00000000e+00  2.90000000e+01]\n",
            " [ 2.28086594e-13  1.00000000e+00]\n",
            " [ 1.00000000e+00  1.50000000e+01]\n",
            " [ 1.00000000e+00  1.90000000e+01]\n",
            " [ 1.00000000e+00  2.00000000e+00]\n",
            " [ 6.74618040e-13  2.00000000e+00]\n",
            " [ 1.00000000e+00  1.00000000e+00]\n",
            " [ 1.00000000e+00  1.70000000e+01]\n",
            " [ 1.00000000e+00  5.00000000e+00]\n",
            " [ 1.00000000e+00 -1.71449080e-14]\n",
            " [ 1.00000000e+00  3.00000000e+00]\n",
            " [ 1.00000000e+00  1.00000000e+00]]\n"
          ]
        }
      ]
    },
    {
      "cell_type": "code",
      "source": [
        "mse = mean_squared_error(y_test, y_pred)\n",
        "print(\"\\nMean Squared Error:\", mse)\n"
      ],
      "metadata": {
        "colab": {
          "base_uri": "https://localhost:8080/"
        },
        "id": "Ag1dCDyAyTCr",
        "outputId": "9ba13043-3cca-4f8b-8cc3-03c20e64b909"
      },
      "execution_count": 22,
      "outputs": [
        {
          "output_type": "stream",
          "name": "stdout",
          "text": [
            "\n",
            "Mean Squared Error: 1.1626229306772248e-25\n"
          ]
        }
      ]
    },
    {
      "cell_type": "code",
      "source": [
        "plt.figure(figsize=(8, 6))\n",
        "plt.scatter(y_test, y_pred, color='orange', alpha=0.5)\n",
        "plt.title('Actual vs. Predicted')\n",
        "plt.xlabel('Actual Values')\n",
        "plt.ylabel('Predicted Values')\n",
        "plt.grid(True)\n",
        "plt.show()"
      ],
      "metadata": {
        "colab": {
          "base_uri": "https://localhost:8080/",
          "height": 564
        },
        "id": "ytOP9cKN-tTo",
        "outputId": "bfb613aa-a366-4cb4-ef34-72a3bcd0b87f"
      },
      "execution_count": 23,
      "outputs": [
        {
          "output_type": "display_data",
          "data": {
            "text/plain": [
              "<Figure size 800x600 with 1 Axes>"
            ],
            "image/png": "[encoded data removed]"
          },
          "metadata": {}
        }
      ]
    },
    {
      "cell_type": "code",
      "source": [
        "y_pred_test = model.predict(X_test)\n",
        "matches = (y_pred_test == y_train)\n",
        "if all(matches):\n",
        "    print(\"All tested values match the training values.\")\n",
        "else:\n",
        "    print(\"Some tested values do not match the training values.\")"
      ],
      "metadata": {
        "colab": {
          "base_uri": "https://localhost:8080/"
        },
        "id": "3m-fXjDsaNHm",
        "outputId": "48c1232b-f1fe-4fe5-f99f-55f3925a75bf"
      },
      "execution_count": 29,
      "outputs": [
        {
          "output_type": "stream",
          "name": "stdout",
          "text": [
            "All tested values match the training values.\n"
          ]
        }
      ]
    },
    {
      "cell_type": "code",
      "source": [
        "y_pred = model.predict(X_test)\n",
        "coefficients = model.coef_\n",
        "intercept = model.intercept_\n",
        "print(\"Coefficients:\", coefficients)\n",
        "print(\"Intercept:\", intercept)"
      ],
      "metadata": {
        "colab": {
          "base_uri": "https://localhost:8080/"
        },
        "id": "oL4JhTb65bJD",
        "outputId": "cd65778a-56bb-43f8-e6ca-cf346acbd71b"
      },
      "execution_count": 30,
      "outputs": [
        {
          "output_type": "stream",
          "name": "stdout",
          "text": [
            "Coefficients: [[ 1.28732623e-16  1.00000000e+00  1.11022302e-16 -9.35666475e-17]\n",
            " [ 2.77337219e-18 -3.02470722e-15 -2.16840434e-19  1.00000000e+00]]\n",
            "Intercept: [ 2.16493490e-13 -1.42108547e-14]\n"
          ]
        }
      ]
    },
    {
      "cell_type": "code",
      "source": [
        "r2 = r2_score(y_test, y_pred)\n",
        "print(\"R-squared (R2) Score:\", r2)"
      ],
      "metadata": {
        "colab": {
          "base_uri": "https://localhost:8080/"
        },
        "id": "34Hs9qIQ5bdO",
        "outputId": "6ef3be9a-f628-476b-d067-116129a5d60e"
      },
      "execution_count": 31,
      "outputs": [
        {
          "output_type": "stream",
          "name": "stdout",
          "text": [
            "R-squared (R2) Score: 1.0\n"
          ]
        }
      ]
    },
    {
      "cell_type": "code",
      "source": [
        "residuals = y_test - y_pred\n",
        "plt.scatter(y_pred, residuals)\n",
        "plt.xlabel(\"Predicted Values\")\n",
        "plt.ylabel(\"Residuals\")\n",
        "plt.title(\"Residual Plot\")\n",
        "plt.axhline(y=0, color='red', linestyle='--')\n",
        "plt.show()"
      ],
      "metadata": {
        "colab": {
          "base_uri": "https://localhost:8080/",
          "height": 472
        },
        "id": "RxTl6hEU5bqf",
        "outputId": "0a247bf9-17f1-4ab3-92f7-b997ea0ca2fd"
      },
      "execution_count": 32,
      "outputs": [
        {
          "output_type": "display_data",
          "data": {
            "text/plain": [
              "<Figure size 640x480 with 1 Axes>"
            ],
            "image/png": "[encoded data removed]"
          },
          "metadata": {}
        }
      ]
    },
    {
      "cell_type": "code",
      "source": [
        "performance_values = df['Performance'].values[:5]\n",
        "facility_values = df['Facility'].values[:5]\n",
        "real_values= df['Value Reported'].values[:5]\n",
        "district_values= df['District'].values[:5]\n",
        "X_new = np.column_stack((performance_values, facility_values,real_values,district_values))\n",
        "y_pred_new = model.predict(X_new)\n",
        "for i, prediction in enumerate(y_pred_new):\n",
        "    print(f\"Predicted commercial growth potential for location {i+1}: {prediction}\")"
      ],
      "metadata": {
        "colab": {
          "base_uri": "https://localhost:8080/"
        },
        "id": "6gcz40WE7i-2",
        "outputId": "a5c85a62-b791-45fa-ae5e-47a386b736b6"
      },
      "execution_count": 26,
      "outputs": [
        {
          "output_type": "stream",
          "name": "stdout",
          "text": [
            "Predicted commercial growth potential for location 1: [11. 21.]\n",
            "Predicted commercial growth potential for location 2: [36.  7.]\n",
            "Predicted commercial growth potential for location 3: [73. 21.]\n",
            "Predicted commercial growth potential for location 4: [131.  22.]\n",
            "Predicted commercial growth potential for location 5: [20. 28.]\n"
          ]
        },
        {
          "output_type": "stream",
          "name": "stderr",
          "text": [
            "/usr/local/lib/python3.10/dist-packages/sklearn/base.py:439: UserWarning: X does not have valid feature names, but LinearRegression was fitted with feature names\n",
            "  warnings.warn(\n"
          ]
        }
      ]
    },
    {
      "cell_type": "code",
      "source": [],
      "metadata": {
        "id": "ErjFYOFG7jXt"
      },
      "execution_count": null,
      "outputs": []
    },
    {
      "cell_type": "code",
      "source": [],
      "metadata": {
        "id": "8jIOmBc-7jj7"
      },
      "execution_count": null,
      "outputs": []
    },
    {
      "cell_type": "code",
      "source": [],
      "metadata": {
        "id": "5xKv4sVB7jyC"
      },
      "execution_count": null,
      "outputs": []
    }
  ]
}